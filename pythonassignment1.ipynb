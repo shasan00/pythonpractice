{
 "cells": [
  {
   "cell_type": "markdown",
   "id": "f558417a",
   "metadata": {},
   "source": [
    "## Prime Number Generator\n",
    "- Generate all prime numbers between two given numbers using a function. "
   ]
  },
  {
   "cell_type": "code",
   "execution_count": null,
   "id": "7b9a0c3b",
   "metadata": {},
   "outputs": [
    {
     "name": "stdout",
     "output_type": "stream",
     "text": [
      "[11, 13, 17, 19, 23, 29, 31, 37, 41, 43, 47]\n"
     ]
    }
   ],
   "source": [
    "def prime_generator(a, b):\n",
    "    \n",
    "    if not a < b:\n",
    "        raise ValueError(\"The first input must be less than the second input.\")\n",
    "    \n",
    "    # Default case where a is less than 2, no primenums are less than 2\n",
    "    if a < 2:\n",
    "        a = 2\n",
    "    primes = []\n",
    "    for num in range(a, b + 1):\n",
    "        is_prime = True\n",
    "        # a number is prime if it has only two divisors: 1 and itself\n",
    "        # check if num is divisible by any number from 2 to sqrt(num)\n",
    "        for i in range(2, int(num**0.5) + 1):\n",
    "            if num % i == 0:\n",
    "                # skip even numbers and don't add them to primes list\n",
    "                is_prime = False\n",
    "                break\n",
    "        if is_prime:\n",
    "            primes.append(num)\n",
    "    return primes\n",
    "\n",
    "print(prime_generator(10, 50))"
   ]
  },
  {
   "cell_type": "markdown",
   "id": "ca48268a",
   "metadata": {},
   "source": [
    "## Number to Words Converter \n",
    "\n",
    "- Convert a number (e.g., 123) into its word form (\"one hundred twenty-three\"). "
   ]
  },
  {
   "cell_type": "code",
   "execution_count": 6,
   "id": "0763a7b7",
   "metadata": {},
   "outputs": [
    {
     "name": "stdout",
     "output_type": "stream",
     "text": [
      "Three Hundred Fifty Four\n"
     ]
    }
   ],
   "source": [
    "def numToWords(n):\n",
    "    if n == 0:\n",
    "        return \"Zero\"\n",
    "    cardinalNum = [\n",
    "        \"\", \"One\", \"Two\", \"Three\", \"Four\", \"Five\", \"Six\", \"Seven\", \"Eight\", \"Nine\", \"Ten\"\n",
    "        \"Eleven\", \"Twelve\", \"Thirteen\", \"Fourteen\", \"Fifteen\", \"Sixteen\", \"Seventeen\", \"Eightteen\",\n",
    "        \"Nineteen\"\n",
    "    ]\n",
    "    tens = [\n",
    "        \"\", \"\", \"Twenty\", \"Thirty\", \"Fourty\", \"Fifty\", \"Sixty\", \"Seventy\", \"Eighty\",\n",
    "        \"Ninety\"\n",
    "    ]\n",
    "    mult = [\n",
    "        \"\", \"Thousand\", \"Million\", \"Billion\"\n",
    "    ]\n",
    "    result = \"\"\n",
    "    group = 0\n",
    "    \n",
    "    while n > 0:\n",
    "        if n % 1000 != 0:\n",
    "            value = n % 1000\n",
    "            temp = \"\"\n",
    "            if value >= 100:\n",
    "                temp = cardinalNum[value // 100] + \" Hundred \"\n",
    "                value %= 100\n",
    "            if value >= 10:\n",
    "                temp += tens[value // 10] + \" \"\n",
    "                value %= 10\n",
    "            if value > 0:\n",
    "                temp += cardinalNum[value] + \" \"\n",
    "            temp += mult[group] + \" \"\n",
    "            result = temp + result\n",
    "        n //= 1000\n",
    "        group += 1\n",
    "    return result.strip()\n",
    "\n",
    "print(numToWords(354))\n"
   ]
  },
  {
   "cell_type": "markdown",
   "id": "89282a98",
   "metadata": {},
   "source": [
    "## Tic-Tac-Toe Board Printer \n",
    "\n",
    "- Print a 3x3 Tic-Tac-Toe board with numbers or player symbols. "
   ]
  },
  {
   "cell_type": "code",
   "execution_count": 9,
   "id": "6054f0df",
   "metadata": {},
   "outputs": [
    {
     "name": "stdout",
     "output_type": "stream",
     "text": [
      "X | O | X\n",
      "O | X | O\n",
      "---------\n",
      "X | O | X\n",
      "None\n"
     ]
    }
   ],
   "source": [
    "def ticTacToe():\n",
    "    board = [\n",
    "        [\"X\", \"O\", \"X\"],\n",
    "        [\"O\", \"X\", \"O\"],\n",
    "        [\"X\", \"O\", \"X\"]\n",
    "    ]\n",
    "    for row in board:\n",
    "        print(\" | \".join(cell if cell else \" \" for cell in row))\n",
    "        if row != board[-1]:\n",
    "            print(\"-\" * 9)\n",
    "print(ticTacToe())"
   ]
  },
  {
   "cell_type": "markdown",
   "id": "8e31ea6e",
   "metadata": {},
   "source": [
    "## Anagram Checker \n",
    "\n",
    "- Write a function to check if two strings are anagrams of each other. "
   ]
  },
  {
   "cell_type": "code",
   "execution_count": 12,
   "id": "8b70d16f",
   "metadata": {},
   "outputs": [
    {
     "name": "stdout",
     "output_type": "stream",
     "text": [
      "True\n"
     ]
    }
   ],
   "source": [
    "def anagram(str1, str2):\n",
    "    str1 = str1.lower()\n",
    "    str2 = str2.lower()\n",
    "    \n",
    "    if not str1 and not str2:\n",
    "        raise ValueError(\"Both inputs should be valid\")\n",
    "    \n",
    "    if len(str1) != len(str2):\n",
    "        return False\n",
    "\n",
    "    charDict = {}\n",
    "    \n",
    "    for char in str1:\n",
    "        if char in charDict:\n",
    "            charDict[char] += 1\n",
    "        else:\n",
    "            charDict[char] = 1\n",
    "    for char in str2:\n",
    "        if char in charDict:\n",
    "            charDict[char] -= 1\n",
    "        else:\n",
    "            return False\n",
    "    return all(count == 0 for count in charDict.values())\n",
    "print(anagram(\"listen\", \"silent\"))\n",
    "    \n",
    "        "
   ]
  },
  {
   "cell_type": "markdown",
   "id": "974eaca2",
   "metadata": {},
   "source": [
    "## Password Strength Checker \n",
    "\n",
    "- Check if a password is strong (has uppercase, lowercase, digits, and special characters). "
   ]
  },
  {
   "cell_type": "code",
   "execution_count": 17,
   "id": "f6234cd0",
   "metadata": {},
   "outputs": [
    {
     "data": {
      "text/plain": [
       "True"
      ]
     },
     "execution_count": 17,
     "metadata": {},
     "output_type": "execute_result"
    }
   ],
   "source": [
    "def passwordStrength(password):\n",
    "    if not password:\n",
    "        raise ValueError(\"Please input a password\")\n",
    "\n",
    "    specialChar = \"!@#$%^&*()[]-_+=,.<>/?;:'`~\"\n",
    "\n",
    "    hasUpper = any(c.isupper() for c in password)\n",
    "    hasLower = any(c.islower() for c in password)\n",
    "    digits = any(c.isdigit() for c in password)\n",
    "    special= any(c in specialChar for c in password)\n",
    "    \n",
    "    return all([hasUpper, hasLower, digits, special])\n",
    "\n",
    "passwordStrength(\"asdf234$1A\")"
   ]
  },
  {
   "cell_type": "markdown",
   "id": "98c37c60",
   "metadata": {},
   "source": [
    "## Longest Word Finder \n",
    "\n",
    "- Given a sentence, find and print the longest word. \n",
    "### Logic\n",
    "- standard error catching\n",
    "- split the words in the sentence by the spaces \n",
    "- put the split words into an array (accomplished by split())\n",
    "- check the length of each element in array "
   ]
  },
  {
   "cell_type": "code",
   "execution_count": 20,
   "id": "84e2e84b",
   "metadata": {},
   "outputs": [
    {
     "data": {
      "text/plain": [
       "'consectetur'"
      ]
     },
     "execution_count": 20,
     "metadata": {},
     "output_type": "execute_result"
    }
   ],
   "source": [
    "def longestWord(sentence):\n",
    "    if not sentence or sentence.isnumeric():\n",
    "        raise ValueError(\"Use an input of a sentence with words and no numbers\") \n",
    "    result = sentence.split()\n",
    "    max = result[0]\n",
    "    for word in result:\n",
    "        if len(word) > len(max):\n",
    "            max = word\n",
    "    return max\n",
    "    \n",
    "longestWord(\"Lorem ipsum dolor sit amet, consectetur adipiscing elit\")"
   ]
  },
  {
   "cell_type": "markdown",
   "id": "77df706c",
   "metadata": {},
   "source": [
    "## List Flattening \n",
    "\n",
    "- Flatten a nested list, e.g., [1, [2, 3], [4, [5, 6]]] → [1, 2, 3, 4, 5, 6]. "
   ]
  },
  {
   "cell_type": "code",
   "execution_count": null,
   "id": "39730905",
   "metadata": {},
   "outputs": [
    {
     "name": "stdout",
     "output_type": "stream",
     "text": [
      "[1, 2, 3, 4, 5, 6]\n"
     ]
    }
   ],
   "source": [
    "def flatten(lst):\n",
    "    result = []\n",
    "    stack = [lst]\n",
    "\n",
    "    while stack:\n",
    "        curr = stack.pop()\n",
    "        if isinstance(curr, list):\n",
    "            stack.extend(reversed(curr))\n",
    "        else:\n",
    "            result.append(curr)\n",
    "    return result\n",
    "\n",
    "ex = [1, [2, 3], [4, [5, 6]]] \n",
    "\n",
    "print(flatten(ex))"
   ]
  },
  {
   "cell_type": "markdown",
   "id": "61c79fa1",
   "metadata": {},
   "source": [
    "## Frequency Counter \n",
    "\n",
    "- Count the frequency of each word in a given paragraph. "
   ]
  },
  {
   "cell_type": "code",
   "execution_count": 27,
   "id": "ae8e245e",
   "metadata": {},
   "outputs": [
    {
     "name": "stdout",
     "output_type": "stream",
     "text": [
      "{'lorem': 2, 'ipsum': 1, 'dolor': 1, 'sit': 1, 'amet,': 1, 'consectetur': 1, 'adipiscing': 1, 'elit': 1}\n"
     ]
    }
   ],
   "source": [
    "def wordCount(para):\n",
    "    para = para.lower().split()\n",
    "    wordDict = {}\n",
    "    \n",
    "    for word in para:\n",
    "        if word in wordDict:\n",
    "            wordDict[word] += 1\n",
    "        else: \n",
    "            wordDict[word] = 1\n",
    "    return wordDict\n",
    "print(wordCount(\"Lorem ipsum dolor sit amet, consectetur adipiscing elit Lorem\"))"
   ]
  },
  {
   "cell_type": "markdown",
   "id": "696e6aba",
   "metadata": {},
   "source": [
    "## Character Counter \n",
    "\n",
    "- Count how many times each character appears in a string (excluding spaces). "
   ]
  },
  {
   "cell_type": "code",
   "execution_count": 30,
   "id": "93943b36",
   "metadata": {},
   "outputs": [
    {
     "name": "stdout",
     "output_type": "stream",
     "text": [
      "{'l': 3, 'o': 4, 'r': 3, 'e': 5, 'm': 3, 'i': 6, 'p': 2, 's': 4, 'u': 2, 'd': 2, 't': 5, 'a': 2, ',': 1, 'c': 3, 'n': 2, 'g': 1}\n"
     ]
    }
   ],
   "source": [
    "def charCount(str):\n",
    "    str = str.lower().replace(\" \", \"\")\n",
    "    charDict = {}\n",
    "    \n",
    "    for char in str:\n",
    "        if char in charDict:\n",
    "            charDict[char] += 1\n",
    "        else:\n",
    "            charDict[char] = 1\n",
    "    return charDict\n",
    "print(charCount(\"Lorem ipsum dolor sit amet, consectetur adipiscing elit\"))"
   ]
  },
  {
   "cell_type": "markdown",
   "id": "5109baed",
   "metadata": {},
   "source": [
    "## Student Gradebook \n",
    "\n",
    "- Store student names and marks in a dictionary. Allow user to query by name to get marks. "
   ]
  },
  {
   "cell_type": "code",
   "execution_count": null,
   "id": "8c6a018f",
   "metadata": {},
   "outputs": [
    {
     "name": "stdout",
     "output_type": "stream",
     "text": [
      "90\n"
     ]
    }
   ],
   "source": [
    "def studentGrades(name, grade):\n",
    "    gradebook = dict(zip(name, grade))\n",
    "    query = input(\"Enter a student name: \").strip()\n",
    "\n",
    "    if query in gradebook:\n",
    "        return gradebook[query]\n",
    "    else:\n",
    "        return \"Student not found.\"\n",
    "    \n",
    "print(studentGrades([\"some\", \"names\", \"other\"], [90, 20, 10]))"
   ]
  },
  {
   "cell_type": "markdown",
   "id": "dc6b4291",
   "metadata": {},
   "source": [
    "## Read and Count Words \n",
    "\n",
    "- Read a text file and count total words, lines, and characters. "
   ]
  },
  {
   "cell_type": "code",
   "execution_count": null,
   "id": "c75a72d8",
   "metadata": {},
   "outputs": [],
   "source": [
    "def readCountWord(file):\n",
    "    "
   ]
  }
 ],
 "metadata": {
  "kernelspec": {
   "display_name": "Python 3",
   "language": "python",
   "name": "python3"
  },
  "language_info": {
   "codemirror_mode": {
    "name": "ipython",
    "version": 3
   },
   "file_extension": ".py",
   "mimetype": "text/x-python",
   "name": "python",
   "nbconvert_exporter": "python",
   "pygments_lexer": "ipython3",
   "version": "3.13.0"
  }
 },
 "nbformat": 4,
 "nbformat_minor": 5
}
