{
 "cells": [
  {
   "cell_type": "markdown",
   "id": "f558417a",
   "metadata": {},
   "source": [
    "## Prime Number Generator\n",
    "- Generate all prime numbers between two given numbers using a function. "
   ]
  },
  {
   "cell_type": "code",
   "execution_count": null,
   "id": "7b9a0c3b",
   "metadata": {},
   "outputs": [
    {
     "name": "stdout",
     "output_type": "stream",
     "text": [
      "[11, 13, 17, 19, 23, 29, 31, 37, 41, 43, 47]\n"
     ]
    }
   ],
   "source": [
    "def prime_generator(a, b):\n",
    "    \n",
    "    if not a < b:\n",
    "        raise ValueError(\"The first input must be less than the second input.\")\n",
    "    \n",
    "    # Default case where a is less than 2, no primenums are less than 2\n",
    "    if a < 2:\n",
    "        a = 2\n",
    "    primes = []\n",
    "    for num in range(a, b + 1):\n",
    "        is_prime = True\n",
    "        # a number is prime if it has only two divisors: 1 and itself\n",
    "        # check if num is divisible by any number from 2 to sqrt(num)\n",
    "        for i in range(2, int(num**0.5) + 1):\n",
    "            if num % i == 0:\n",
    "                # skip even numbers and don't add them to primes list\n",
    "                is_prime = False\n",
    "                break\n",
    "        if is_prime:\n",
    "            primes.append(num)\n",
    "    return primes\n",
    "\n",
    "print(prime_generator(10, 50))"
   ]
  },
  {
   "cell_type": "markdown",
   "id": "ca48268a",
   "metadata": {},
   "source": [
    "## Number to Words Converter \n",
    "\n",
    "- Convert a number (e.g., 123) into its word form (\"one hundred twenty-three\"). "
   ]
  },
  {
   "cell_type": "code",
   "execution_count": 6,
   "id": "0763a7b7",
   "metadata": {},
   "outputs": [
    {
     "name": "stdout",
     "output_type": "stream",
     "text": [
      "Three Hundred Fifty Four\n"
     ]
    }
   ],
   "source": [
    "def numToWords(n):\n",
    "    if n == 0:\n",
    "        return \"Zero\"\n",
    "    cardinalNum = [\n",
    "        \"\", \"One\", \"Two\", \"Three\", \"Four\", \"Five\", \"Six\", \"Seven\", \"Eight\", \"Nine\", \"Ten\"\n",
    "        \"Eleven\", \"Twelve\", \"Thirteen\", \"Fourteen\", \"Fifteen\", \"Sixteen\", \"Seventeen\", \"Eightteen\",\n",
    "        \"Nineteen\"\n",
    "    ]\n",
    "    tens = [\n",
    "        \"\", \"\", \"Twenty\", \"Thirty\", \"Fourty\", \"Fifty\", \"Sixty\", \"Seventy\", \"Eighty\",\n",
    "        \"Ninety\"\n",
    "    ]\n",
    "    mult = [\n",
    "        \"\", \"Thousand\", \"Million\", \"Billion\"\n",
    "    ]\n",
    "    result = \"\"\n",
    "    group = 0\n",
    "    \n",
    "    while n > 0:\n",
    "        if n % 1000 != 0:\n",
    "            value = n % 1000\n",
    "            temp = \"\"\n",
    "            if value >= 100:\n",
    "                temp = cardinalNum[value // 100] + \" Hundred \"\n",
    "                value %= 100\n",
    "            if value >= 10:\n",
    "                temp += tens[value // 10] + \" \"\n",
    "                value %= 10\n",
    "            if value > 0:\n",
    "                temp += cardinalNum[value] + \" \"\n",
    "            temp += mult[group] + \" \"\n",
    "            result = temp + result\n",
    "        n //= 1000\n",
    "        group += 1\n",
    "    return result.strip()\n",
    "\n",
    "print(numToWords(354))\n"
   ]
  },
  {
   "cell_type": "markdown",
   "id": "89282a98",
   "metadata": {},
   "source": [
    "## Tic-Tac-Toe Board Printer \n",
    "\n",
    "- Print a 3x3 Tic-Tac-Toe board with numbers or player symbols. "
   ]
  },
  {
   "cell_type": "code",
   "execution_count": 9,
   "id": "6054f0df",
   "metadata": {},
   "outputs": [
    {
     "name": "stdout",
     "output_type": "stream",
     "text": [
      "X | O | X\n",
      "O | X | O\n",
      "---------\n",
      "X | O | X\n",
      "None\n"
     ]
    }
   ],
   "source": [
    "def ticTacToe():\n",
    "    board = [\n",
    "        [\"X\", \"O\", \"X\"],\n",
    "        [\"O\", \"X\", \"O\"],\n",
    "        [\"X\", \"O\", \"X\"]\n",
    "    ]\n",
    "    for row in board:\n",
    "        print(\" | \".join(cell if cell else \" \" for cell in row))\n",
    "        if row != board[-1]:\n",
    "            print(\"-\" * 9)\n",
    "print(ticTacToe())"
   ]
  },
  {
   "cell_type": "markdown",
   "id": "8e31ea6e",
   "metadata": {},
   "source": [
    "## Anagram Checker \n",
    "\n",
    "- Write a function to check if two strings are anagrams of each other. "
   ]
  },
  {
   "cell_type": "code",
   "execution_count": 12,
   "id": "8b70d16f",
   "metadata": {},
   "outputs": [
    {
     "name": "stdout",
     "output_type": "stream",
     "text": [
      "True\n"
     ]
    }
   ],
   "source": [
    "def anagram(str1, str2):\n",
    "    str1 = str1.lower()\n",
    "    str2 = str2.lower()\n",
    "    \n",
    "    if not str1 and not str2:\n",
    "        raise ValueError(\"Both inputs should be valid\")\n",
    "    \n",
    "    if len(str1) != len(str2):\n",
    "        return False\n",
    "\n",
    "    charDict = {}\n",
    "    \n",
    "    for char in str1:\n",
    "        if char in charDict:\n",
    "            charDict[char] += 1\n",
    "        else:\n",
    "            charDict[char] = 1\n",
    "    for char in str2:\n",
    "        if char in charDict:\n",
    "            charDict[char] -= 1\n",
    "        else:\n",
    "            return False\n",
    "    return all(count == 0 for count in charDict.values())\n",
    "print(anagram(\"listen\", \"silent\"))\n",
    "    \n",
    "        "
   ]
  },
  {
   "cell_type": "markdown",
   "id": "974eaca2",
   "metadata": {},
   "source": [
    "## Password Strength Checker \n",
    "\n",
    "- Check if a password is strong (has uppercase, lowercase, digits, and special characters). "
   ]
  },
  {
   "cell_type": "code",
   "execution_count": 17,
   "id": "f6234cd0",
   "metadata": {},
   "outputs": [
    {
     "data": {
      "text/plain": [
       "True"
      ]
     },
     "execution_count": 17,
     "metadata": {},
     "output_type": "execute_result"
    }
   ],
   "source": [
    "def passwordStrength(password):\n",
    "    if not password:\n",
    "        raise ValueError(\"Please input a password\")\n",
    "\n",
    "    specialChar = \"!@#$%^&*()[]-_+=,.<>/?;:'`~\"\n",
    "\n",
    "    hasUpper = any(c.isupper() for c in password)\n",
    "    hasLower = any(c.islower() for c in password)\n",
    "    digits = any(c.isdigit() for c in password)\n",
    "    special= any(c in specialChar for c in password)\n",
    "    \n",
    "    return all([hasUpper, hasLower, digits, special])\n",
    "\n",
    "passwordStrength(\"asdf234$1A\")"
   ]
  },
  {
   "cell_type": "markdown",
   "id": "98c37c60",
   "metadata": {},
   "source": [
    "## Longest Word Finder \n",
    "\n",
    "- Given a sentence, find and print the longest word. \n",
    "### Logic\n",
    "- standard error catching\n",
    "- split the words in the sentence by the spaces \n",
    "- put the split words into an array (accomplished by split())\n",
    "- check the length of each element in array "
   ]
  },
  {
   "cell_type": "code",
   "execution_count": 20,
   "id": "84e2e84b",
   "metadata": {},
   "outputs": [
    {
     "data": {
      "text/plain": [
       "'consectetur'"
      ]
     },
     "execution_count": 20,
     "metadata": {},
     "output_type": "execute_result"
    }
   ],
   "source": [
    "def longestWord(sentence):\n",
    "    if not sentence or sentence.isnumeric():\n",
    "        raise ValueError(\"Use an input of a sentence with words and no numbers\") \n",
    "    result = sentence.split()\n",
    "    max = result[0]\n",
    "    for word in result:\n",
    "        if len(word) > len(max):\n",
    "            max = word\n",
    "    return max\n",
    "    \n",
    "longestWord(\"Lorem ipsum dolor sit amet, consectetur adipiscing elit\")"
   ]
  },
  {
   "cell_type": "markdown",
   "id": "77df706c",
   "metadata": {},
   "source": [
    "## List Flattening \n",
    "\n",
    "- Flatten a nested list, e.g., [1, [2, 3], [4, [5, 6]]] → [1, 2, 3, 4, 5, 6]. "
   ]
  },
  {
   "cell_type": "code",
   "execution_count": 24,
   "id": "39730905",
   "metadata": {},
   "outputs": [
    {
     "name": "stdout",
     "output_type": "stream",
     "text": [
      "[1, 2, 3, 4, 5, 6]\n"
     ]
    }
   ],
   "source": [
    "def flatten(lst):\n",
    "    result = []\n",
    "    stack = [lst]\n",
    "\n",
    "    while stack:\n",
    "        curr = stack.pop()\n",
    "        if isinstance(curr, list):\n",
    "            stack.extend(reversed(curr))\n",
    "        else:\n",
    "            result.append(curr)\n",
    "    return result\n",
    "\n",
    "ex = [1, [2, 3], [4, [5, 6]]] \n",
    "\n",
    "print(flatten(ex))"
   ]
  },
  {
   "cell_type": "markdown",
   "id": "61c79fa1",
   "metadata": {},
   "source": [
    "## Frequency Counter \n",
    "\n",
    "- Count the frequency of each word in a given paragraph. "
   ]
  },
  {
   "cell_type": "code",
   "execution_count": 27,
   "id": "ae8e245e",
   "metadata": {},
   "outputs": [
    {
     "name": "stdout",
     "output_type": "stream",
     "text": [
      "{'lorem': 2, 'ipsum': 1, 'dolor': 1, 'sit': 1, 'amet,': 1, 'consectetur': 1, 'adipiscing': 1, 'elit': 1}\n"
     ]
    }
   ],
   "source": [
    "def wordCount(para):\n",
    "    para = para.lower().split()\n",
    "    wordDict = {}\n",
    "    \n",
    "    for word in para:\n",
    "        if word in wordDict:\n",
    "            wordDict[word] += 1\n",
    "        else: \n",
    "            wordDict[word] = 1\n",
    "    return wordDict\n",
    "print(wordCount(\"Lorem ipsum dolor sit amet, consectetur adipiscing elit Lorem\"))"
   ]
  },
  {
   "cell_type": "markdown",
   "id": "696e6aba",
   "metadata": {},
   "source": [
    "## Character Counter \n",
    "\n",
    "- Count how many times each character appears in a string (excluding spaces). "
   ]
  },
  {
   "cell_type": "code",
   "execution_count": 30,
   "id": "93943b36",
   "metadata": {},
   "outputs": [
    {
     "name": "stdout",
     "output_type": "stream",
     "text": [
      "{'l': 3, 'o': 4, 'r': 3, 'e': 5, 'm': 3, 'i': 6, 'p': 2, 's': 4, 'u': 2, 'd': 2, 't': 5, 'a': 2, ',': 1, 'c': 3, 'n': 2, 'g': 1}\n"
     ]
    }
   ],
   "source": [
    "def charCount(str):\n",
    "    str = str.lower().replace(\" \", \"\")\n",
    "    charDict = {}\n",
    "    \n",
    "    for char in str:\n",
    "        if char in charDict:\n",
    "            charDict[char] += 1\n",
    "        else:\n",
    "            charDict[char] = 1\n",
    "    return charDict\n",
    "print(charCount(\"Lorem ipsum dolor sit amet, consectetur adipiscing elit\"))"
   ]
  },
  {
   "cell_type": "markdown",
   "id": "5109baed",
   "metadata": {},
   "source": [
    "## Student Gradebook \n",
    "\n",
    "- Store student names and marks in a dictionary. Allow user to query by name to get marks. "
   ]
  },
  {
   "cell_type": "code",
   "execution_count": 35,
   "id": "8c6a018f",
   "metadata": {},
   "outputs": [
    {
     "name": "stdout",
     "output_type": "stream",
     "text": [
      "90\n"
     ]
    }
   ],
   "source": [
    "def studentGrades(name, grade):\n",
    "    gradebook = dict(zip(name, grade))\n",
    "    query = input(\"Enter a student name: \").strip()\n",
    "\n",
    "    if query in gradebook:\n",
    "        return gradebook[query]\n",
    "    else:\n",
    "        return \"Student not found.\"\n",
    "    \n",
    "print(studentGrades([\"some\", \"names\", \"other\"], [90, 20, 10]))"
   ]
  },
  {
   "cell_type": "markdown",
   "id": "dc6b4291",
   "metadata": {},
   "source": [
    "## Read and Count Words \n",
    "\n",
    "- Read a text file and count total words, lines, and characters. "
   ]
  },
  {
   "cell_type": "code",
   "execution_count": 39,
   "id": "c75a72d8",
   "metadata": {},
   "outputs": [],
   "source": [
    "def readCountWord(file):\n",
    "    try:\n",
    "        with open(file, 'r') as file:\n",
    "            lines = file.readlines()\n",
    "            numLines = len(lines)\n",
    "            sumWords = sum(len(line.split()) for line in lines)\n",
    "            sumChar = sum(len(line) for line in lines)\n",
    "            return numLines, sumWords, sumChar\n",
    "    except FileNotFoundError:\n",
    "        print(\"The file may not exist\")\n",
    "    except Exception as e:\n",
    "        print(f\"Error {e}\")"
   ]
  },
  {
   "cell_type": "markdown",
   "id": "e7d8c580",
   "metadata": {},
   "source": [
    "## Simple Log Writer \n",
    "\n",
    "- Write logs to a file every time the script is run with timestamps. "
   ]
  },
  {
   "cell_type": "code",
   "execution_count": null,
   "id": "9c256e9a",
   "metadata": {},
   "outputs": [],
   "source": [
    "from datetime import datetime\n",
    "\n",
    "def logWriter(file):\n",
    "    try:\n",
    "        with open(file, \"a\") as log:\n",
    "            timestamp = datetime.now().strftime(\"%Y-%m-%d %H:%M:%S\")\n",
    "            log.write(f\"[{timestamp}] Script ran. \\n\")\n",
    "            print(\"Log written to\")\n",
    "    except Exception as e:\n",
    "        print(f\"Error {e}\")\n",
    "\n",
    "logWriter(file)"
   ]
  },
  {
   "cell_type": "markdown",
   "id": "23c26068",
   "metadata": {},
   "source": [
    "## CSV Reader \n",
    "\n",
    "- Read a CSV file containing student marks and print names of students scoring above 75%. "
   ]
  },
  {
   "cell_type": "code",
   "execution_count": null,
   "id": "f3dff87f",
   "metadata": {},
   "outputs": [],
   "source": [
    "import csv\n",
    "\n",
    "def csvReader(file):\n",
    "    try:\n",
    "        with open(file, newline='') as csvfile:\n",
    "            reader = csv.DictReader(csvfile)\n",
    "            print(\"Above 75%\")\n",
    "            for row in reader:\n",
    "                name = row['name']\n",
    "                grade = float(row[\"grade\"])\n",
    "                if grade > 75:\n",
    "                    print(f\"- {name}\")\n",
    "    except FileNotFoundError:\n",
    "        print(f\"{file} was not found\")\n",
    "    except Exception as e:\n",
    "        print(f\"Error {e}\")"
   ]
  },
  {
   "cell_type": "markdown",
   "id": "2d3eb75a",
   "metadata": {},
   "source": [
    "## Bank Account Simulation \n",
    "\n",
    "- Create a BankAccount class with deposit, withdraw, and balance inquiry methods. "
   ]
  },
  {
   "cell_type": "code",
   "execution_count": null,
   "id": "2c81db9d",
   "metadata": {},
   "outputs": [],
   "source": [
    "class BankAccount:\n",
    "    def __init__(self, balance):\n",
    "        self.balance = balance\n",
    "    \n",
    "    def deposit(self, amount):\n",
    "        if amount > 0:\n",
    "            self.balance += amount\n",
    "        else: \n",
    "            print(\"You cannot deposit a negative amount\")\n",
    "    \n",
    "    def withdraw(self, amount):\n",
    "        if amount <= 0:\n",
    "            print(\"You cannot withdraw a negative amount\")\n",
    "        elif amount > self.balance:\n",
    "            print(\"You do not have enough balance to withdraw the funds\")\n",
    "        else:\n",
    "            self.balance -= amount\n",
    "    \n",
    "    def getBalance(self):\n",
    "        return self.balance"
   ]
  },
  {
   "cell_type": "markdown",
   "id": "ac276685",
   "metadata": {},
   "source": [
    "## Library Management System \n",
    "\n",
    "- Create classes for Book and Library. Add methods to borrow and return books. "
   ]
  },
  {
   "cell_type": "code",
   "execution_count": null,
   "id": "22947fff",
   "metadata": {},
   "outputs": [],
   "source": [
    "class Book:\n",
    "    def __init__(self, title, author, year, pages, available=True):\n",
    "        self.title = title\n",
    "        self.author = author\n",
    "        self.year = year\n",
    "        self.pages = pages\n",
    "        self.available = available\n",
    "class Library:\n",
    "    def __init__(self):\n",
    "        self.books = []\n",
    "    \n",
    "    def addBook(self, book):\n",
    "        self.books.append(book)\n",
    "    \n",
    "    def borrow(self, title):\n",
    "        for book in self.books:\n",
    "            if book.title.lower() == title.lower():\n",
    "                if book.available:\n",
    "                    book.available = False\n",
    "                    print(f\"Borrowed book {title}\")\n",
    "                    return\n",
    "                else: \n",
    "                    print(f\"{title} is already being borrowed by someone else\")\n",
    "                    return\n",
    "        print(f\"{title} was not found please retype or try another book\")\n",
    "    \n",
    "    def returnBook(self, title):\n",
    "        for book in self.books:\n",
    "            if book.title.lower() == title.lower():\n",
    "                if not book.available:\n",
    "                    book.available = True\n",
    "                    print(f\"Successfully returned {title}\")\n",
    "                    return\n",
    "                else: \n",
    "                    print(f\"{title} was never borrowed\")\n",
    "                    return \n",
    "        print(f\"{title} was not found in library\")"
   ]
  },
  {
   "cell_type": "markdown",
   "id": "2006c8e3",
   "metadata": {},
   "source": [
    "## Employee Management \n",
    "\n",
    "- Store employee details using classes and show details of employees in a specific department. "
   ]
  },
  {
   "cell_type": "code",
   "execution_count": 41,
   "id": "e9b6086c",
   "metadata": {},
   "outputs": [],
   "source": [
    "class Employee:\n",
    "    def __init__(self, name, age, department, eid, salary):\n",
    "        self.name = name \n",
    "        self.age = age\n",
    "        self.department = department\n",
    "        self.eid = eid\n",
    "        self.salary = salary\n",
    "    \n",
    "class Company:\n",
    "    def __init__(self):\n",
    "        self.employees = []\n",
    "    \n",
    "    def addEmployee(self, employee):\n",
    "        self.employees.append(employee)\n",
    "    \n",
    "    def getEmployeesofDepartment(self, dept):\n",
    "        found = False\n",
    "        for employee in self.employees:\n",
    "            print(f\" - {employee}\")\n",
    "            found = True\n",
    "        if not found:\n",
    "            print(\"No employees currently in that department\")\n",
    "            "
   ]
  },
  {
   "cell_type": "markdown",
   "id": "4e1ada6d",
   "metadata": {},
   "source": [
    "## Simple Quiz App \n",
    "\n",
    "- Create a console-based quiz app with questions and multiple-choice answers. "
   ]
  },
  {
   "cell_type": "code",
   "execution_count": 42,
   "id": "8177113f",
   "metadata": {},
   "outputs": [
    {
     "name": "stdout",
     "output_type": "stream",
     "text": [
      "\n",
      "What is the capital of France?\n",
      " A. Paris\n",
      " B. London\n",
      " C. Berlin\n",
      " D. Madrid\n",
      "Correct\n",
      "\n",
      "What is the capital of France?\n",
      " A. Paris\n",
      " B. London\n",
      " C. Berlin\n",
      " D. Madrid\n",
      "Incorrect, the correct answer was A\n",
      "\n",
      "What is the capital of France?\n",
      " A. Paris\n",
      " B. London\n",
      " C. Berlin\n",
      " D. Madrid\n",
      "Incorrect, the correct answer was A\n"
     ]
    }
   ],
   "source": [
    "class Question:\n",
    "    def __init__(self, prompt, choices, answer):\n",
    "        self.prompt = prompt\n",
    "        self.choices = choices\n",
    "        self.answer = answer\n",
    "    \n",
    "    def ask(self):\n",
    "        print(\"\\n\" + self.prompt)\n",
    "        for key, option in self.choices.items():\n",
    "            print(f\" {key}. {option}\")\n",
    "        userAns = input(\"Choose an answer choice (A, B, C, D): \")\n",
    "        return userAns == self.answer\n",
    "    \n",
    "def run(questiosn):\n",
    "    score = 0\n",
    "    for q in questions:\n",
    "        if q.ask():\n",
    "            print(\"Correct\")\n",
    "            score += 1\n",
    "        else: \n",
    "            print(f\"Incorrect, the correct answer was {q.answer}\")\n",
    "\n",
    "# sample questions\n",
    "questions = [\n",
    "    Question(\"What is the capital of France?\", {\"A\": \"Paris\", \"B\": \"London\", \"C\": \"Berlin\", \"D\": \"Madrid\"}, \"A\"),\n",
    "    Question(\"What is the capital of France?\", {\"A\": \"Paris\", \"B\": \"London\", \"C\": \"Berlin\", \"D\": \"Madrid\"}, \"A\"),\n",
    "    Question(\"What is the capital of France?\", {\"A\": \"Paris\", \"B\": \"London\", \"C\": \"Berlin\", \"D\": \"Madrid\"}, \"A\")\n",
    "]\n",
    "\n",
    "run(questions)"
   ]
  },
  {
   "cell_type": "markdown",
   "id": "e56b3d88",
   "metadata": {},
   "source": [
    "## Expense Tracker \n",
    "\n",
    "- Input daily expenses and generate a weekly summary (store data in a file or dictionary). "
   ]
  },
  {
   "cell_type": "code",
   "execution_count": 44,
   "id": "db59bff3",
   "metadata": {},
   "outputs": [
    {
     "name": "stdout",
     "output_type": "stream",
     "text": [
      "Enter expense for each day:\n",
      "Weekly Summary:\n",
      "Monday: $2.00\n",
      "Tuesday: $2.00\n",
      "Wednesday: $2.00\n",
      "Thursday: $2.00\n",
      "Friday: $2.00\n",
      "Saturday: $22.00\n",
      "Sunday: $2.00\n",
      "\n",
      "Total: $34.00\n"
     ]
    }
   ],
   "source": [
    "def input_expenses():\n",
    "    expenses = {}\n",
    "    days = [\"Monday\", \"Tuesday\", \"Wednesday\", \"Thursday\", \"Friday\", \"Saturday\", \"Sunday\"]\n",
    "\n",
    "    print(\"Enter expense for each day:\")\n",
    "    for day in days:\n",
    "        while True:\n",
    "            try:\n",
    "                amount = float(input(f\"{day}: $\"))\n",
    "                if amount < 0:\n",
    "                    raise ValueError(\"Expense can't be negative.\")\n",
    "                expenses[day] = amount\n",
    "                break\n",
    "            except ValueError as e:\n",
    "                print(f\"Invalid input: {e}\")\n",
    "    return expenses\n",
    "\n",
    "def weeklySummary(expenses):\n",
    "    total = sum(expenses.values())\n",
    "    average = total / len(expenses)\n",
    "\n",
    "    print(\"Weekly Summary:\")\n",
    "    for day, amount in expenses.items():\n",
    "        print(f\"{day}: ${amount:.2f}\")\n",
    "    print(f\"\\nTotal: ${total:.2f}\")\n",
    "\n",
    "# Run the expense tracker\n",
    "weeklyExpense = input_expenses()\n",
    "weeklySummary(weeklyExpense)\n"
   ]
  },
  {
   "cell_type": "markdown",
   "id": "893080a9",
   "metadata": {},
   "source": [
    "## To-Do App with File Persistence \n",
    "\n",
    "- Add, remove, mark tasks complete, and save/load from a file. "
   ]
  },
  {
   "cell_type": "code",
   "execution_count": null,
   "id": "3fe215f1",
   "metadata": {},
   "outputs": [],
   "source": [
    "import json\n",
    "import os\n",
    "\n",
    "TodoFile = \"todo.json\"\n",
    "\n",
    "def load_tasks():\n",
    "    if os.path.exists(TodoFile):\n",
    "        with open(TodoFile, \"r\") as f:\n",
    "            return json.load(f)\n",
    "    return []\n",
    "\n",
    "def save_tasks(tasks):\n",
    "    with open(TodoFile, \"w\") as f:\n",
    "        json.dump(tasks, f, indent=4)\n",
    "\n",
    "def show_tasks(tasks):\n",
    "    print(\"\\n Your To-Do List:\")\n",
    "    if not tasks:\n",
    "        print(\"No tasks found.\")\n",
    "    for i, task in enumerate(tasks, start=1):\n",
    "        status = \"Done\" if task[\"done\"] else \"X\"\n",
    "        print(f\"{i}. {status} {task['task']}\")\n",
    "\n",
    "def add_task(tasks):\n",
    "    task_text = input(\"Enter new task: \").strip()\n",
    "    if task_text:\n",
    "        tasks.append({\"task\": task_text, \"done\": False})\n",
    "        print(\" Task added.\")\n",
    "    else:\n",
    "        print(\"Task cannot be empty.\")\n",
    "\n",
    "def remove_task(tasks):\n",
    "    show_tasks(tasks)\n",
    "    try:\n",
    "        num = int(input(\"Enter task number to remove: \"))\n",
    "        if 1 <= num <= len(tasks):\n",
    "            removed = tasks.pop(num - 1)\n",
    "            print(f\" Removed: {removed['task']}\")\n",
    "        else:\n",
    "            print(\" Invalid task number.\")\n",
    "    except ValueError:\n",
    "        print(\" Please enter a valid number.\")\n",
    "\n",
    "def mark_complete(tasks):\n",
    "    show_tasks(tasks)\n",
    "    try:\n",
    "        num = int(input(\"Enter task number to mark complete: \"))\n",
    "        if 1 <= num <= len(tasks):\n",
    "            tasks[num - 1][\"done\"] = True\n",
    "            print(f\" Marked complete: {tasks[num - 1]['task']}\")\n",
    "        else:\n",
    "            print(\" Invalid task number.\")\n",
    "    except ValueError:\n",
    "        print(\" Please enter a valid number.\")\n",
    "\n",
    "def main():\n",
    "    tasks = load_tasks()\n",
    "    while True:\n",
    "        print(\"\\n Menu:\")\n",
    "        print(\"1. Show tasks\")\n",
    "        print(\"2. Add task\")\n",
    "        print(\"3. Remove task\")\n",
    "        print(\"4. Mark task as complete\")\n",
    "        print(\"5. Exit\")\n",
    "        choice = input(\"Choose an option (1-5): \")\n",
    "\n",
    "        if choice == \"1\":\n",
    "            show_tasks(tasks)\n",
    "        elif choice == \"2\":\n",
    "            add_task(tasks)\n",
    "        elif choice == \"3\":\n",
    "            remove_task(tasks)\n",
    "        elif choice == \"4\":\n",
    "            mark_complete(tasks)\n",
    "        elif choice == \"5\":\n",
    "            save_tasks(tasks)\n",
    "            print(\" Tasks saved. \")\n",
    "            break\n",
    "        else:\n",
    "            print(\" Please select from 1 to 5.\")\n",
    "\n",
    "main()\n",
    "# format should be task: (name), done: (T/F)"
   ]
  }
 ],
 "metadata": {
  "kernelspec": {
   "display_name": "Python 3",
   "language": "python",
   "name": "python3"
  },
  "language_info": {
   "codemirror_mode": {
    "name": "ipython",
    "version": 3
   },
   "file_extension": ".py",
   "mimetype": "text/x-python",
   "name": "python",
   "nbconvert_exporter": "python",
   "pygments_lexer": "ipython3",
   "version": "3.13.0"
  }
 },
 "nbformat": 4,
 "nbformat_minor": 5
}
